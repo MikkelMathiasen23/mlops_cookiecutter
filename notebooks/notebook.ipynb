{
 "metadata": {
  "language_info": {
   "codemirror_mode": {
    "name": "ipython",
    "version": 3
   },
   "file_extension": ".py",
   "mimetype": "text/x-python",
   "name": "python",
   "nbconvert_exporter": "python",
   "pygments_lexer": "ipython3",
   "version": "3.8.5"
  },
  "orig_nbformat": 4,
  "kernelspec": {
   "name": "python3",
   "display_name": "Python 3.8.5 64-bit ('base': conda)"
  },
  "interpreter": {
   "hash": "c6480e6e0a7465e87e9efdc0a99efb8f43fa04a9c73e4e8a4c0e8def9a8e558b"
  }
 },
 "nbformat": 4,
 "nbformat_minor": 2,
 "cells": [
  {
   "cell_type": "code",
   "execution_count": 1,
   "metadata": {},
   "outputs": [],
   "source": [
    "from azureml.core import Workspace\n",
    "\n",
    "ws = Workspace.get(name='MLOps',\n",
    "                   subscription_id='c720cd74-e36b-4dc4-9780-6aa39b2e6524',\n",
    "                   resource_group='aml-resources')\n"
   ]
  },
  {
   "cell_type": "code",
   "execution_count": 15,
   "metadata": {},
   "outputs": [
    {
     "output_type": "stream",
     "name": "stdout",
     "text": [
      "MLOps-compute1 : ComputeInstance\n"
     ]
    }
   ],
   "source": [
    "for compute_name in ws.compute_targets:\n",
    "    compute = ws.compute_targets[compute_name]\n",
    "    print(compute.name, \":\", compute.type)"
   ]
  },
  {
   "cell_type": "code",
   "execution_count": 8,
   "metadata": {},
   "outputs": [],
   "source": [
    "from azureml.core import Experiment\n",
    "\n",
    "# create an experiment variable\n",
    "experiment = Experiment(workspace = ws, name = \"my-experiment\")\n",
    "\n",
    "# start the experiment\n",
    "run = experiment.start_logging()\n",
    "\n",
    "# experiment code goes here\n",
    "run.log('test','123')\n",
    "# end the experiment\n",
    "run.complete()"
   ]
  },
  {
   "cell_type": "code",
   "execution_count": 18,
   "metadata": {},
   "outputs": [
    {
     "output_type": "stream",
     "name": "stdout",
     "text": [
      "c:\\Users\\Mikkel\\Google Drive\\Mathematical modelling and computation\\2. semester\\MLOps\\mlops_cookiecutter\\mlops_cookiecutter\\notebooks\n"
     ]
    }
   ],
   "source": [
    "from azureml.core import Experiment\n",
    "import pandas as pd\n",
    "import os\n",
    "print(os.getcwd())\n",
    "\n",
    "# Create an Azure ML experiment in your workspace\n",
    "experiment = Experiment(workspace = ws, name = 'my-experiment')\n",
    "\n",
    "# Start logging data from the experiment\n",
    "run = experiment.start_logging()\n",
    "\n",
    "# load the dataset and count the rows\n",
    "data = pd.read_csv('../mslearn-dp100/data/diabetes.csv')\n",
    "row_count = (len(data))\n",
    "\n",
    "# Log the row count\n",
    "run.log('observations', row_count)\n",
    "\n",
    "# Complete the experiment\n",
    "run.complete()"
   ]
  },
  {
   "cell_type": "code",
   "execution_count": 19,
   "metadata": {},
   "outputs": [
    {
     "output_type": "display_data",
     "data": {
      "text/plain": "_UserRunWidget(widget_settings={'childWidgetDisplay': 'popup', 'send_telemetry': False, 'log_level': 'INFO', '…",
      "application/vnd.jupyter.widget-view+json": {
       "version_major": 2,
       "version_minor": 0,
       "model_id": "4e074113d1214782986642393f0ca1c2"
      }
     },
     "metadata": {}
    },
    {
     "output_type": "display_data",
     "data": {
      "application/aml.mini.widget.v1": "{\"status\": \"Completed\", \"workbench_run_details_uri\": \"https://ml.azure.com/runs/9826f1f0-4ecc-43c5-a6ed-2f88eb7a2c78?wsid=/subscriptions/c720cd74-e36b-4dc4-9780-6aa39b2e6524/resourcegroups/aml-resources/workspaces/MLOps&tid=f251f123-c9ce-448e-9277-34bb285911d9\", \"run_id\": \"9826f1f0-4ecc-43c5-a6ed-2f88eb7a2c78\", \"run_properties\": {\"run_id\": \"9826f1f0-4ecc-43c5-a6ed-2f88eb7a2c78\", \"created_utc\": \"2021-06-11T10:07:44.907378Z\", \"properties\": {\"azureml.git.repository_uri\": \"https://github.com/MikkelMathiasen23/mlops_cookiecutter\", \"mlflow.source.git.repoURL\": \"https://github.com/MikkelMathiasen23/mlops_cookiecutter\", \"azureml.git.branch\": \"master\", \"mlflow.source.git.branch\": \"master\", \"azureml.git.commit\": \"96554393ca0f967d0bcdfb470b46f6d264ac99df\", \"mlflow.source.git.commit\": \"96554393ca0f967d0bcdfb470b46f6d264ac99df\", \"azureml.git.dirty\": \"True\", \"ContentSnapshotId\": \"4df8808b-17fc-4cd0-a98d-4f3b84d4e6c6\"}, \"tags\": {}, \"end_time_utc\": \"2021-06-11T10:07:46.893401Z\", \"status\": \"Completed\", \"log_files\": {}, \"log_groups\": [], \"run_duration\": \"0:00:01\", \"run_number\": \"6\", \"run_queued_details\": {\"status\": \"Completed\", \"details\": null}}, \"child_runs\": [], \"children_metrics\": {}, \"run_metrics\": [{\"name\": \"observations\", \"run_id\": \"9826f1f0-4ecc-43c5-a6ed-2f88eb7a2c78\", \"categories\": [0], \"series\": [{\"data\": [10000]}]}], \"run_logs\": \"\\nRun is completed.\", \"graph\": {}, \"widget_settings\": {\"childWidgetDisplay\": \"popup\", \"send_telemetry\": false, \"log_level\": \"INFO\", \"sdk_version\": \"1.30.0\"}, \"loading\": false}"
     },
     "metadata": {}
    }
   ],
   "source": [
    "from azureml.widgets import RunDetails\n",
    "\n",
    "RunDetails(run).show()"
   ]
  },
  {
   "cell_type": "code",
   "execution_count": 20,
   "metadata": {},
   "outputs": [
    {
     "output_type": "stream",
     "name": "stdout",
     "text": [
      "{\n  \"observations\": 10000\n}\n"
     ]
    }
   ],
   "source": [
    "import json\n",
    "\n",
    "# Get logged metrics\n",
    "metrics = run.get_metrics()\n",
    "print(json.dumps(metrics, indent=2))"
   ]
  },
  {
   "cell_type": "code",
   "execution_count": null,
   "metadata": {},
   "outputs": [],
   "source": [
    "from azureml.core import Experiment, ScriptRunConfig\n",
    "\n",
    "# Create a script config\n",
    "script_config = ScriptRunConfig(source_directory=experiment_folder,\n",
    "                                script='experiment.py') \n",
    "\n",
    "# submit the experiment\n",
    "experiment = Experiment(workspace = ws, name = 'my-experiment')\n",
    "run = experiment.submit(config=script_config)\n",
    "run.wait_for_completion(show_output=True)"
   ]
  }
 ]
}